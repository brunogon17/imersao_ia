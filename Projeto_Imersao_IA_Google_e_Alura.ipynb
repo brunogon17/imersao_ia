{
  "nbformat": 4,
  "nbformat_minor": 0,
  "metadata": {
    "colab": {
      "provenance": [],
      "toc_visible": true,
      "authorship_tag": "ABX9TyO/8UbzdjX87fogVWWviPG4",
      "include_colab_link": true
    },
    "kernelspec": {
      "name": "python3",
      "display_name": "Python 3"
    },
    "language_info": {
      "name": "python"
    }
  },
  "cells": [
    {
      "cell_type": "markdown",
      "metadata": {
        "id": "view-in-github",
        "colab_type": "text"
      },
      "source": [
        "<a href=\"https://colab.research.google.com/github/brunogon17/imersao_ia/blob/main/Projeto_Imersao_IA_Google_e_Alura.ipynb\" target=\"_parent\"><img src=\"https://colab.research.google.com/assets/colab-badge.svg\" alt=\"Open In Colab\"/></a>"
      ]
    },
    {
      "cell_type": "code",
      "execution_count": null,
      "metadata": {
        "id": "QkOMN1dOl_-t"
      },
      "outputs": [],
      "source": [
        "#Instalando o SDK do Google\n",
        "!pip install -q -U google-generativeai"
      ]
    },
    {
      "cell_type": "code",
      "source": [
        "#Configurações iniciais\n",
        "import google.generativeai as genai\n",
        "from google.colab import userdata\n",
        "\n",
        "minha_api_key = userdata.get('minha_api_key')\n",
        "GOOGLE_API_KEY=minha_api_key\n",
        "genai.configure(api_key=GOOGLE_API_KEY)\n",
        "\n",
        "generation_config = {\n",
        "  \"candidate_count\": 1,\n",
        "  \"temperature\": 0.5,\n",
        "}\n",
        "\n",
        "safety_settings={\n",
        "    'HATE': 'BLOCK_NONE',\n",
        "    'HARASSMENT': 'BLOCK_NONE',\n",
        "    'SEXUAL' : 'BLOCK_NONE',\n",
        "    'DANGEROUS' : 'BLOCK_NONE'\n",
        "    }\n",
        "\n",
        "model = genai.GenerativeModel(model_name='gemini-1.5-pro-latest',\n",
        "                                  generation_config=generation_config,\n",
        "                                  safety_settings=safety_settings,)\n",
        "\n"
      ],
      "metadata": {
        "id": "4Mg3r7BwmhEx"
      },
      "execution_count": 20,
      "outputs": []
    },
    {
      "cell_type": "code",
      "source": [
        "import json #importo a biblioteca para trabalhar com JSON\n",
        "import random #importo a biblioteca para utilizar o random\n",
        "valor_consulta = random.randint(0, 3) # crio um random com valores ( 1,2,3 ou 4)\n",
        "\n",
        "#Crio uma tabela de exemplo para simular um banco de dados com placa e se pesou ou nao\n",
        "tabela_sistema_pesagem =[\n",
        "    {\n",
        "    'id': 1,\n",
        "    'placa': 'ABC1234',\n",
        "    'pesou': 'Sim'\n",
        "    },\n",
        "    {\n",
        "    'id': 2,\n",
        "    'placa': 'AQR1212',\n",
        "    'pesou': 'NA'\n",
        "    },\n",
        "    {\n",
        "    'id': 3,\n",
        "    'placa': 'QQQ1111',\n",
        "    'pesou': 'Nao'\n",
        "    },\n",
        "    {\n",
        "    'id': 4,\n",
        "    'placa': 'WQW9999',\n",
        "    'pesou': 'Sim'\n",
        "    }\n",
        "]\n",
        "\n",
        "#Trato os dados da tabela de exemplo acima\n",
        "dados = tabela_sistema_pesagem[valor_consulta]\n",
        "foto = 'www/deteccoes/' + str(dados['id']) + \".png\" # pego o id e acrescendo .png para ficar igual o nome das fotos na pasta www\n",
        "placa = dados['placa'] # pego a placa\n",
        "pesou = dados['pesou'] # pego se pesou ou nao\n",
        "\n",
        "#Crio agora uma lista com fotos para passar para o modelo dizendo o que é carreta e ou que é carro!\n",
        "prompt_parts = [\n",
        "    \"Object: \",\n",
        "     genai.upload_file('www/carreta.png'),\n",
        "    \"Description: caminhão\",\n",
        "    \"Object: \",\n",
        "     genai.upload_file('www/carreta1.png'),\n",
        "    \"Description: caminhão\",\n",
        "    \"Object: \",\n",
        "     genai.upload_file('www/carreta.png'),\n",
        "    \"Description: caminhão\",\n",
        "    \"Object: \",\n",
        "     genai.upload_file('www/outro.png'),\n",
        "    \"Description: carro\",\n",
        "     genai.upload_file(foto),\n",
        "    \"Description: \",\n",
        "     ]\n",
        "\n",
        "#peço o modelo para verificar o tipo de veiculo no momento\n",
        "response = model.generate_content(prompt_parts)\n",
        "\n",
        "tipo_veiculo = response.text\n",
        "print(\"\")\n",
        "print(\"Tipo do veiculo: \",tipo_veiculo)\n",
        "print(\"\")\n",
        "print(\"*************************************************\")\n",
        "print(\"\")\n",
        "print(\"\")\n",
        "if(tipo_veiculo == \"caminhão\"):\n",
        "  #Verifico se esta cheia ou vazia\n",
        "  #exemplos para o gemini entende o que é cheio e o que é vazio\n",
        "  prompt_parts2 = [\n",
        "      \"Object: \",\n",
        "      genai.upload_file('www/cheia.png'),\n",
        "      \"Description: cheia\",\n",
        "      \"Object: \",\n",
        "      genai.upload_file('www/vazia.png'),\n",
        "      \"Description: vazia\",\n",
        "      \"Object: \",\n",
        "      genai.upload_file(foto),\n",
        "      \"Description: \",\n",
        "      ]\n",
        "  #peço o modelo para verificar o tipo de veiculo no momento\n",
        "  response2 = model.generate_content(prompt_parts2)\n",
        "  condicao_do_veiculo = response2.text\n",
        "  if(condicao_do_veiculo == \"cheia\"):\n",
        "    #Se trata de um caminhão saindo cheio, entao preciso verificar se pesou, caso contrario está desviando uma carga!\n",
        "    if(pesou == \"Sim\"):\n",
        "      print(\"Se trata de um caminhão que está saindo cheio e que pesou na balança emitindo sua nota fiscal para transporte. Esta tudo ok com o veiculo placa \" + placa)\n",
        "    else:\n",
        "      print(\"Se trata de um caminhão saindo cheio e que não pesou, devo acionar a equipe de segurança patrimonial pois o veiculo placa \" + placa + \" possivelmente está desviando uma carga e saindo sem nota fiscal emitida!\")\n",
        "  else:\n",
        "    #Se trata de um caminhão, porem vazio, entao permito ir embora sem ao menos verificar se pesou emitindo a nota fical para transporte\n",
        "    print(\"Se trata de um caminhão placa \" + placa + \" e está saindo vazio!\")\n",
        "\n",
        "\n",
        "elif (tipo_veiculo == \"carro\"):\n",
        "  print(\"Se trata de um carro, logo, permito sair!\")\n",
        "\n",
        "\n",
        "else:\n",
        " print(\"Ignora pois houve algum erro de detecção!\")\n"
      ],
      "metadata": {
        "colab": {
          "base_uri": "https://localhost:8080/",
          "height": 146
        },
        "id": "UAjRydnBt-i6",
        "outputId": "81a51a16-7019-4c32-e803-a431108d4d85"
      },
      "execution_count": 93,
      "outputs": [
        {
          "output_type": "stream",
          "name": "stdout",
          "text": [
            "\n",
            "Tipo do veiculo:  caminhão\n",
            "\n",
            "*************************************************\n",
            "\n",
            "\n",
            "Se trata de um caminhão que está saindo cheio e que pesou na balança emitindo sua nota fiscal para transporte. Esta tudo ok com o veiculo placa WQW9999\n"
          ]
        }
      ]
    }
  ]
}